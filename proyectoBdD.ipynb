{
 "cells": [
  {
   "cell_type": "markdown",
   "metadata": {},
   "source": [
    "1. Conexión a la base de datos\n"
   ]
  },
  {
   "cell_type": "code",
   "execution_count": 60,
   "metadata": {},
   "outputs": [
    {
     "name": "stdout",
     "output_type": "stream",
     "text": [
      "Conexión exitosa\n"
     ]
    }
   ],
   "source": [
    "import psycopg2\n",
    "\n",
    "# Parámetros de conexión\n",
    "hostname = 'localhost'\n",
    "database = 'pp1'\n",
    "username = 'postgres'\n",
    "pwd = 'Contraseña'\n",
    "port_id = 5432\n",
    "\n",
    "# Establecer la conexión\n",
    "try:\n",
    "    conn = psycopg2.connect(\n",
    "        host=hostname,\n",
    "        dbname=database,\n",
    "        user=username,\n",
    "        password=pwd,\n",
    "        port=port_id\n",
    "    )\n",
    "    cur = conn.cursor()\n",
    "    print(\"Conexión exitosa\")\n",
    "except Exception as error:\n",
    "    print(\"Error de conexión:\", error)\n",
    "\n"
   ]
  },
  {
   "cell_type": "markdown",
   "metadata": {},
   "source": [
    "2. Crear tablas\n"
   ]
  },
  {
   "cell_type": "code",
   "execution_count": 61,
   "metadata": {},
   "outputs": [
    {
     "name": "stdout",
     "output_type": "stream",
     "text": [
      "Tablas creadas con éxito\n"
     ]
    }
   ],
   "source": [
    "try:\n",
    "    # Crear tabla 'employee'\n",
    "    create_employee = '''CREATE TABLE IF NOT EXISTS employee(\n",
    "                          id int PRIMARY KEY,\n",
    "                          name varchar(40) NOT NULL,\n",
    "                          salary int,\n",
    "                          dept_id varchar(30))'''\n",
    "    cur.execute(create_employee)\n",
    "    \n",
    "    # Crear tabla 'alumnos'\n",
    "    create_alumnos = '''CREATE TABLE IF NOT EXISTS alumnos(\n",
    "                         id int PRIMARY KEY,\n",
    "                         name varchar(40) NOT NULL,\n",
    "                         age int)'''\n",
    "    cur.execute(create_alumnos)\n",
    "    \n",
    "    # Crear tabla 'fabs'\n",
    "    create_fabs = '''CREATE TABLE IF NOT EXISTS fabs(\n",
    "                      id int PRIMARY KEY,\n",
    "                      description varchar(100),\n",
    "                      dept_id varchar(30))'''\n",
    "    cur.execute(create_fabs)\n",
    "\n",
    "    conn.commit()\n",
    "    print(\"Tablas creadas con éxito\")\n",
    "except Exception as error:\n",
    "    print(\"Error al crear tablas:\", error)\n"
   ]
  },
  {
   "cell_type": "markdown",
   "metadata": {},
   "source": [
    "3. Consultar datos\n"
   ]
  },
  {
   "cell_type": "code",
   "execution_count": 62,
   "metadata": {},
   "outputs": [
    {
     "name": "stdout",
     "output_type": "stream",
     "text": [
      "Datos en usuarios:\n",
      "(1, 3, datetime.date(2023, 4, 5), 'pendiente')\n",
      "(2, 6, datetime.date(2023, 5, 12), 'enviado')\n",
      "(3, 8, datetime.date(2023, 6, 18), 'entregado')\n",
      "(4, 11, datetime.date(2023, 7, 22), 'pendiente')\n",
      "(5, 14, datetime.date(2023, 8, 9), 'enviado')\n",
      "(6, 3, datetime.date(2023, 9, 5), 'entregado')\n",
      "(7, 6, datetime.date(2023, 10, 1), 'pendiente')\n",
      "(8, 8, datetime.date(2023, 4, 17), 'enviado')\n",
      "(9, 11, datetime.date(2023, 5, 30), 'entregado')\n",
      "(10, 14, datetime.date(2023, 6, 10), 'pendiente')\n",
      "(11, 3, datetime.date(2023, 7, 14), 'enviado')\n",
      "(12, 6, datetime.date(2023, 8, 22), 'entregado')\n",
      "(13, 8, datetime.date(2023, 9, 1), 'pendiente')\n",
      "(14, 11, datetime.date(2023, 10, 3), 'enviado')\n",
      "(15, 14, datetime.date(2023, 4, 25), 'entregado')\n",
      "(16, 3, datetime.date(2023, 5, 6), 'pendiente')\n",
      "(17, 6, datetime.date(2023, 6, 21), 'enviado')\n",
      "(18, 8, datetime.date(2023, 7, 19), 'entregado')\n",
      "(19, 11, datetime.date(2023, 8, 11), 'pendiente')\n",
      "(20, 14, datetime.date(2023, 9, 28), 'enviado')\n"
     ]
    }
   ],
   "source": [
    "try:\n",
    "    # Consultar todos los datos de la tabla 'usuarios'\n",
    "    select_query = 'SELECT * FROM pedidos'\n",
    "    cur.execute(select_query)\n",
    "    results = cur.fetchall()\n",
    "    print(\"Datos en usuarios:\")\n",
    "    for row in results:\n",
    "        print(row)\n",
    "except Exception as error:\n",
    "    print(\"Error al consultar datos:\", error)\n"
   ]
  },
  {
   "cell_type": "markdown",
   "metadata": {},
   "source": [
    "4. Añadir datos\n"
   ]
  },
  {
   "cell_type": "code",
   "execution_count": 63,
   "metadata": {},
   "outputs": [
    {
     "name": "stdout",
     "output_type": "stream",
     "text": [
      "Datos agregados exitosamente a la tabla 'employee'.\n"
     ]
    }
   ],
   "source": [
    "# Agregar datos a la tabla 'employee'\n",
    "try:\n",
    "    # Datos a insertar\n",
    "    insert_query = '''INSERT INTO employee (id, name, salary, dept_id) VALUES (%s, %s, %s, %s)'''\n",
    "    data_to_insert = [\n",
    "        (1, 'Alice', 50000, 'HR'),\n",
    "        (2, 'Bob', 60000, 'IT'),\n",
    "        (3, 'Charlie', 55000, 'Finance')\n",
    "    ]\n",
    "    \n",
    "    # Insertar múltiples registros\n",
    "    for record in data_to_insert:\n",
    "        cur.execute(insert_query, record)\n",
    "    \n",
    "    conn.commit()  # Confirmar los cambios\n",
    "    print(\"Datos agregados exitosamente a la tabla 'employee'.\")\n",
    "\n",
    "except Exception as error:\n",
    "    print(\"Error al insertar datos:\", error)\n"
   ]
  },
  {
   "cell_type": "markdown",
   "metadata": {},
   "source": [
    "5. Modificar una tabla\n"
   ]
  },
  {
   "cell_type": "code",
   "execution_count": 64,
   "metadata": {},
   "outputs": [
    {
     "name": "stdout",
     "output_type": "stream",
     "text": [
      "Tabla modificada con éxito\n"
     ]
    }
   ],
   "source": [
    "try:\n",
    "    # Agregar una nueva columna 'hire_date' a la tabla 'employee'\n",
    "    alter_query = '''ALTER TABLE employee ADD COLUMN hire_date DATE'''\n",
    "    cur.execute(alter_query)\n",
    "    conn.commit()\n",
    "    print(\"Tabla modificada con éxito\")\n",
    "except Exception as error:\n",
    "    print(\"Error al modificar la tabla:\", error)\n"
   ]
  },
  {
   "cell_type": "markdown",
   "metadata": {},
   "source": [
    "6. Ver datos específicos\n"
   ]
  },
  {
   "cell_type": "code",
   "execution_count": 65,
   "metadata": {},
   "outputs": [
    {
     "name": "stdout",
     "output_type": "stream",
     "text": [
      "Datos específicos:\n",
      "(1, 'Alice', 50000, 'HR', None)\n",
      "(2, 'Bob', 60000, 'IT', None)\n",
      "(3, 'Charlie', 55000, 'Finance', None)\n"
     ]
    }
   ],
   "source": [
    "try:\n",
    "    # Filtrar empleados con salario mayor a 10,000\n",
    "    select_specific = 'SELECT * FROM employee WHERE salary > %s'\n",
    "    salary_threshold = (10000,)\n",
    "    cur.execute(select_specific, salary_threshold)\n",
    "    specific_results = cur.fetchall()\n",
    "    print(\"Datos específicos:\")\n",
    "    for row in specific_results:\n",
    "        print(row)\n",
    "except Exception as error:\n",
    "    print(\"Error al consultar datos específicos:\", error)\n"
   ]
  },
  {
   "cell_type": "markdown",
   "metadata": {},
   "source": [
    "7. Eliminar datos\n"
   ]
  },
  {
   "cell_type": "code",
   "execution_count": 66,
   "metadata": {},
   "outputs": [
    {
     "name": "stdout",
     "output_type": "stream",
     "text": [
      "Datos eliminados con éxito\n"
     ]
    }
   ],
   "source": [
    "try:\n",
    "    # Eliminar un empleado por su ID\n",
    "    delete_query = 'DELETE FROM employee WHERE id = %s'\n",
    "    employee_id = (1,)  # Cambiar el ID según sea necesario\n",
    "    cur.execute(delete_query, employee_id)\n",
    "    conn.commit()\n",
    "    print(\"Datos eliminados con éxito\")\n",
    "except Exception as error:\n",
    "    print(\"Error al eliminar datos:\", error)\n"
   ]
  },
  {
   "cell_type": "markdown",
   "metadata": {},
   "source": [
    "8. Cerrar conexión\n"
   ]
  },
  {
   "cell_type": "code",
   "execution_count": 67,
   "metadata": {},
   "outputs": [
    {
     "name": "stdout",
     "output_type": "stream",
     "text": [
      "Cursor cerrado.\n",
      "Conexión cerrada.\n"
     ]
    }
   ],
   "source": [
    "# Cierra el cursor y la conexión manualmente\n",
    "if 'cur' in globals() and cur is not None:\n",
    "    cur.close()\n",
    "    print(\"Cursor cerrado.\")\n",
    "\n",
    "if 'conn' in globals() and conn is not None:\n",
    "    conn.close()\n",
    "    print(\"Conexión cerrada.\")\n"
   ]
  },
  {
   "cell_type": "markdown",
   "metadata": {},
   "source": [
    "Por Said Carbot Cruz Trejo\n",
    "ESCOM-IPN-MEX\n",
    "Noviembre 2024"
   ]
  }
 ],
 "metadata": {
  "kernelspec": {
   "display_name": "base",
   "language": "python",
   "name": "python3"
  },
  "language_info": {
   "codemirror_mode": {
    "name": "ipython",
    "version": 3
   },
   "file_extension": ".py",
   "mimetype": "text/x-python",
   "name": "python",
   "nbconvert_exporter": "python",
   "pygments_lexer": "ipython3",
   "version": "3.12.4"
  }
 },
 "nbformat": 4,
 "nbformat_minor": 2
}
